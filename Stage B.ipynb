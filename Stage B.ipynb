{
 "metadata": {
  "language_info": {
   "codemirror_mode": {
    "name": "ipython",
    "version": 3
   },
   "file_extension": ".py",
   "mimetype": "text/x-python",
   "name": "python",
   "nbconvert_exporter": "python",
   "pygments_lexer": "ipython3",
   "version": "3.9.7"
  },
  "orig_nbformat": 4,
  "kernelspec": {
   "name": "python3",
   "display_name": "Python 3.9.7 64-bit (conda)"
  },
  "interpreter": {
   "hash": "cb11e4e3c22651dc48d2482418aa7e406b4c4d71fd9bc2d138a93427e3ccd624"
  }
 },
 "nbformat": 4,
 "nbformat_minor": 2,
 "cells": [
  {
   "cell_type": "code",
   "execution_count": 1,
   "metadata": {},
   "outputs": [],
   "source": [
    "import numpy as np\n",
    "import pandas as pd \n",
    "import seaborn as sns\n",
    "import matplotlib.pyplot as plt \n",
    "from sklearn.ensemble import RandomForestClassifier\n",
    "from sklearn.metrics import confusion_matrix,classification_report\n",
    "from sklearn.model_selection import train_test_split \n",
    "from sklearn.preprocessing import MinMaxScaler"
   ]
  },
  {
   "cell_type": "code",
   "execution_count": 2,
   "metadata": {},
   "outputs": [],
   "source": [
    "energy_data = pd.read_csv('energydata_complete.csv')"
   ]
  },
  {
   "cell_type": "code",
   "execution_count": 3,
   "metadata": {},
   "outputs": [
    {
     "output_type": "execute_result",
     "data": {
      "text/plain": [
       "                  date  Appliances  lights     T1       RH_1    T2       RH_2  \\\n",
       "0  2016-01-11 17:00:00          60      30  19.89  47.596667  19.2  44.790000   \n",
       "1  2016-01-11 17:10:00          60      30  19.89  46.693333  19.2  44.722500   \n",
       "2  2016-01-11 17:20:00          50      30  19.89  46.300000  19.2  44.626667   \n",
       "3  2016-01-11 17:30:00          50      40  19.89  46.066667  19.2  44.590000   \n",
       "4  2016-01-11 17:40:00          60      40  19.89  46.333333  19.2  44.530000   \n",
       "\n",
       "      T3       RH_3         T4  ...         T9   RH_9     T_out  Press_mm_hg  \\\n",
       "0  19.79  44.730000  19.000000  ...  17.033333  45.53  6.600000        733.5   \n",
       "1  19.79  44.790000  19.000000  ...  17.066667  45.56  6.483333        733.6   \n",
       "2  19.79  44.933333  18.926667  ...  17.000000  45.50  6.366667        733.7   \n",
       "3  19.79  45.000000  18.890000  ...  17.000000  45.40  6.250000        733.8   \n",
       "4  19.79  45.000000  18.890000  ...  17.000000  45.40  6.133333        733.9   \n",
       "\n",
       "   RH_out  Windspeed  Visibility  Tdewpoint        rv1        rv2  \n",
       "0    92.0   7.000000   63.000000        5.3  13.275433  13.275433  \n",
       "1    92.0   6.666667   59.166667        5.2  18.606195  18.606195  \n",
       "2    92.0   6.333333   55.333333        5.1  28.642668  28.642668  \n",
       "3    92.0   6.000000   51.500000        5.0  45.410389  45.410389  \n",
       "4    92.0   5.666667   47.666667        4.9  10.084097  10.084097  \n",
       "\n",
       "[5 rows x 29 columns]"
      ],
      "text/html": "<div>\n<style scoped>\n    .dataframe tbody tr th:only-of-type {\n        vertical-align: middle;\n    }\n\n    .dataframe tbody tr th {\n        vertical-align: top;\n    }\n\n    .dataframe thead th {\n        text-align: right;\n    }\n</style>\n<table border=\"1\" class=\"dataframe\">\n  <thead>\n    <tr style=\"text-align: right;\">\n      <th></th>\n      <th>date</th>\n      <th>Appliances</th>\n      <th>lights</th>\n      <th>T1</th>\n      <th>RH_1</th>\n      <th>T2</th>\n      <th>RH_2</th>\n      <th>T3</th>\n      <th>RH_3</th>\n      <th>T4</th>\n      <th>...</th>\n      <th>T9</th>\n      <th>RH_9</th>\n      <th>T_out</th>\n      <th>Press_mm_hg</th>\n      <th>RH_out</th>\n      <th>Windspeed</th>\n      <th>Visibility</th>\n      <th>Tdewpoint</th>\n      <th>rv1</th>\n      <th>rv2</th>\n    </tr>\n  </thead>\n  <tbody>\n    <tr>\n      <th>0</th>\n      <td>2016-01-11 17:00:00</td>\n      <td>60</td>\n      <td>30</td>\n      <td>19.89</td>\n      <td>47.596667</td>\n      <td>19.2</td>\n      <td>44.790000</td>\n      <td>19.79</td>\n      <td>44.730000</td>\n      <td>19.000000</td>\n      <td>...</td>\n      <td>17.033333</td>\n      <td>45.53</td>\n      <td>6.600000</td>\n      <td>733.5</td>\n      <td>92.0</td>\n      <td>7.000000</td>\n      <td>63.000000</td>\n      <td>5.3</td>\n      <td>13.275433</td>\n      <td>13.275433</td>\n    </tr>\n    <tr>\n      <th>1</th>\n      <td>2016-01-11 17:10:00</td>\n      <td>60</td>\n      <td>30</td>\n      <td>19.89</td>\n      <td>46.693333</td>\n      <td>19.2</td>\n      <td>44.722500</td>\n      <td>19.79</td>\n      <td>44.790000</td>\n      <td>19.000000</td>\n      <td>...</td>\n      <td>17.066667</td>\n      <td>45.56</td>\n      <td>6.483333</td>\n      <td>733.6</td>\n      <td>92.0</td>\n      <td>6.666667</td>\n      <td>59.166667</td>\n      <td>5.2</td>\n      <td>18.606195</td>\n      <td>18.606195</td>\n    </tr>\n    <tr>\n      <th>2</th>\n      <td>2016-01-11 17:20:00</td>\n      <td>50</td>\n      <td>30</td>\n      <td>19.89</td>\n      <td>46.300000</td>\n      <td>19.2</td>\n      <td>44.626667</td>\n      <td>19.79</td>\n      <td>44.933333</td>\n      <td>18.926667</td>\n      <td>...</td>\n      <td>17.000000</td>\n      <td>45.50</td>\n      <td>6.366667</td>\n      <td>733.7</td>\n      <td>92.0</td>\n      <td>6.333333</td>\n      <td>55.333333</td>\n      <td>5.1</td>\n      <td>28.642668</td>\n      <td>28.642668</td>\n    </tr>\n    <tr>\n      <th>3</th>\n      <td>2016-01-11 17:30:00</td>\n      <td>50</td>\n      <td>40</td>\n      <td>19.89</td>\n      <td>46.066667</td>\n      <td>19.2</td>\n      <td>44.590000</td>\n      <td>19.79</td>\n      <td>45.000000</td>\n      <td>18.890000</td>\n      <td>...</td>\n      <td>17.000000</td>\n      <td>45.40</td>\n      <td>6.250000</td>\n      <td>733.8</td>\n      <td>92.0</td>\n      <td>6.000000</td>\n      <td>51.500000</td>\n      <td>5.0</td>\n      <td>45.410389</td>\n      <td>45.410389</td>\n    </tr>\n    <tr>\n      <th>4</th>\n      <td>2016-01-11 17:40:00</td>\n      <td>60</td>\n      <td>40</td>\n      <td>19.89</td>\n      <td>46.333333</td>\n      <td>19.2</td>\n      <td>44.530000</td>\n      <td>19.79</td>\n      <td>45.000000</td>\n      <td>18.890000</td>\n      <td>...</td>\n      <td>17.000000</td>\n      <td>45.40</td>\n      <td>6.133333</td>\n      <td>733.9</td>\n      <td>92.0</td>\n      <td>5.666667</td>\n      <td>47.666667</td>\n      <td>4.9</td>\n      <td>10.084097</td>\n      <td>10.084097</td>\n    </tr>\n  </tbody>\n</table>\n<p>5 rows × 29 columns</p>\n</div>"
     },
     "metadata": {},
     "execution_count": 3
    }
   ],
   "source": [
    "energy_data.head()"
   ]
  },
  {
   "cell_type": "code",
   "execution_count": 4,
   "metadata": {},
   "outputs": [
    {
     "output_type": "stream",
     "name": "stdout",
     "text": [
      "<class 'pandas.core.frame.DataFrame'>\nRangeIndex: 19735 entries, 0 to 19734\nData columns (total 29 columns):\n #   Column       Non-Null Count  Dtype  \n---  ------       --------------  -----  \n 0   date         19735 non-null  object \n 1   Appliances   19735 non-null  int64  \n 2   lights       19735 non-null  int64  \n 3   T1           19735 non-null  float64\n 4   RH_1         19735 non-null  float64\n 5   T2           19735 non-null  float64\n 6   RH_2         19735 non-null  float64\n 7   T3           19735 non-null  float64\n 8   RH_3         19735 non-null  float64\n 9   T4           19735 non-null  float64\n 10  RH_4         19735 non-null  float64\n 11  T5           19735 non-null  float64\n 12  RH_5         19735 non-null  float64\n 13  T6           19735 non-null  float64\n 14  RH_6         19735 non-null  float64\n 15  T7           19735 non-null  float64\n 16  RH_7         19735 non-null  float64\n 17  T8           19735 non-null  float64\n 18  RH_8         19735 non-null  float64\n 19  T9           19735 non-null  float64\n 20  RH_9         19735 non-null  float64\n 21  T_out        19735 non-null  float64\n 22  Press_mm_hg  19735 non-null  float64\n 23  RH_out       19735 non-null  float64\n 24  Windspeed    19735 non-null  float64\n 25  Visibility   19735 non-null  float64\n 26  Tdewpoint    19735 non-null  float64\n 27  rv1          19735 non-null  float64\n 28  rv2          19735 non-null  float64\ndtypes: float64(26), int64(2), object(1)\nmemory usage: 4.4+ MB\n"
     ]
    }
   ],
   "source": [
    "energy_data.info()"
   ]
  },
  {
   "cell_type": "code",
   "execution_count": 10,
   "metadata": {},
   "outputs": [],
   "source": [
    "energy_data = energy_data.drop('date', axis=1)\n",
    "scaler = MinMaxScaler()\n",
    "normalised_energy_data = pd.DataFrame(scaler.fit_transform(energy_data), columns=energy_data.columns)\n",
    "features_energy_data = normalised_energy_data.drop(columns=['T2', 'T6'])\n",
    "T2_target = normalised_energy_data['T2']\n",
    "x_train, x_test, y_train, y_test = train_test_split(features_energy_data, T2_target,\n",
    "test_size=0.3, random_state=1)\n",
    "\n"
   ]
  },
  {
   "cell_type": "code",
   "execution_count": 13,
   "metadata": {},
   "outputs": [
    {
     "output_type": "execute_result",
     "data": {
      "text/plain": [
       "0.961"
      ]
     },
     "metadata": {},
     "execution_count": 13
    }
   ],
   "source": [
    "from sklearn.linear_model import LinearRegression\n",
    "linear_model = LinearRegression()\n",
    "linear_model.fit(x_train, y_train)\n",
    "predicted_values = linear_model.predict(x_test)\n",
    "from sklearn.metrics import r2_score\n",
    "r2_score = r2_score(y_test, predicted_values)\n",
    "round(r2_score, 3) "
   ]
  },
  {
   "cell_type": "code",
   "execution_count": 22,
   "metadata": {},
   "outputs": [
    {
     "output_type": "execute_result",
     "data": {
      "text/plain": [
       "50.908"
      ]
     },
     "metadata": {},
     "execution_count": 22
    }
   ],
   "source": [
    "scaler = MinMaxScaler()\n",
    "normalised_energy_data = pd.DataFrame(scaler.fit_transform(energy_data), columns=energy_data.columns)\n",
    "features_energy_data = normalised_energy_data.drop(columns=['Appliances', 'lights'])\n",
    "Appliances_target = normalised_energy_data['Appliances']\n",
    "x_train, x_test, y_train, y_test = train_test_split(features_energy_data, Appliances_target,test_size=0.33, random_state=42)\n",
    "\n",
    "#MAE\n",
    "from sklearn.linear_model import LinearRegression\n",
    "linear_model = LinearRegression()\n",
    "linear_model.fit(x_train, y_train)\n",
    "predicted_values = linear_model.predict(x_test)\n",
    "from sklearn.metrics import mean_absolute_error\n",
    "mae = mean_absolute_error(y_test, predicted_values)\n",
    "round(mae, 2) \n",
    "#RSS\n",
    "rss = np.sum(np.square(y_test - predicted_values))\n",
    "round(rss, 3) "
   ]
  },
  {
   "cell_type": "code",
   "execution_count": 24,
   "metadata": {},
   "outputs": [
    {
     "output_type": "execute_result",
     "data": {
      "text/plain": [
       "0.146"
      ]
     },
     "metadata": {},
     "execution_count": 24
    }
   ],
   "source": [
    "#RMSE\n",
    "from sklearn.metrics import mean_squared_error\n",
    "rmse = np.sqrt(mean_squared_error(y_test, predicted_values))\n",
    "round(rmse, 3) \n",
    "\n",
    "#coefficient of determination\n",
    "from sklearn.metrics import r2_score\n",
    "r2_score = r2_score(y_test, predicted_values)\n",
    "round(r2_score, 3) "
   ]
  },
  {
   "cell_type": "code",
   "execution_count": 25,
   "metadata": {},
   "outputs": [
    {
     "output_type": "execute_result",
     "data": {
      "text/plain": [
       "       Appliances  lights         T1       RH_1         T2       RH_2  \\\n",
       "0              60      30  19.890000  47.596667  19.200000  44.790000   \n",
       "1              60      30  19.890000  46.693333  19.200000  44.722500   \n",
       "2              50      30  19.890000  46.300000  19.200000  44.626667   \n",
       "3              50      40  19.890000  46.066667  19.200000  44.590000   \n",
       "4              60      40  19.890000  46.333333  19.200000  44.530000   \n",
       "...           ...     ...        ...        ...        ...        ...   \n",
       "19730         100       0  25.566667  46.560000  25.890000  42.025714   \n",
       "19731          90       0  25.500000  46.500000  25.754000  42.080000   \n",
       "19732         270      10  25.500000  46.596667  25.628571  42.768571   \n",
       "19733         420      10  25.500000  46.990000  25.414000  43.036000   \n",
       "19734         430      10  25.500000  46.600000  25.264286  42.971429   \n",
       "\n",
       "              T3       RH_3         T4       RH_4  ...         T9     RH_9  \\\n",
       "0      19.790000  44.730000  19.000000  45.566667  ...  17.033333  45.5300   \n",
       "1      19.790000  44.790000  19.000000  45.992500  ...  17.066667  45.5600   \n",
       "2      19.790000  44.933333  18.926667  45.890000  ...  17.000000  45.5000   \n",
       "3      19.790000  45.000000  18.890000  45.723333  ...  17.000000  45.4000   \n",
       "4      19.790000  45.000000  18.890000  45.530000  ...  17.000000  45.4000   \n",
       "...          ...        ...        ...        ...  ...        ...      ...   \n",
       "19730  27.200000  41.163333  24.700000  45.590000  ...  23.200000  46.7900   \n",
       "19731  27.133333  41.223333  24.700000  45.590000  ...  23.200000  46.7900   \n",
       "19732  27.050000  41.690000  24.700000  45.730000  ...  23.200000  46.7900   \n",
       "19733  26.890000  41.290000  24.700000  45.790000  ...  23.200000  46.8175   \n",
       "19734  26.823333  41.156667  24.700000  45.963333  ...  23.200000  46.8450   \n",
       "\n",
       "           T_out  Press_mm_hg     RH_out  Windspeed  Visibility  Tdewpoint  \\\n",
       "0       6.600000        733.5  92.000000   7.000000   63.000000   5.300000   \n",
       "1       6.483333        733.6  92.000000   6.666667   59.166667   5.200000   \n",
       "2       6.366667        733.7  92.000000   6.333333   55.333333   5.100000   \n",
       "3       6.250000        733.8  92.000000   6.000000   51.500000   5.000000   \n",
       "4       6.133333        733.9  92.000000   5.666667   47.666667   4.900000   \n",
       "...          ...          ...        ...        ...         ...        ...   \n",
       "19730  22.733333        755.2  55.666667   3.333333   23.666667  13.333333   \n",
       "19731  22.600000        755.2  56.000000   3.500000   24.500000  13.300000   \n",
       "19732  22.466667        755.2  56.333333   3.666667   25.333333  13.266667   \n",
       "19733  22.333333        755.2  56.666667   3.833333   26.166667  13.233333   \n",
       "19734  22.200000        755.2  57.000000   4.000000   27.000000  13.200000   \n",
       "\n",
       "             rv1        rv2  \n",
       "0      13.275433  13.275433  \n",
       "1      18.606195  18.606195  \n",
       "2      28.642668  28.642668  \n",
       "3      45.410389  45.410389  \n",
       "4      10.084097  10.084097  \n",
       "...          ...        ...  \n",
       "19730  43.096812  43.096812  \n",
       "19731  49.282940  49.282940  \n",
       "19732  29.199117  29.199117  \n",
       "19733   6.322784   6.322784  \n",
       "19734  34.118851  34.118851  \n",
       "\n",
       "[19735 rows x 28 columns]"
      ],
      "text/html": "<div>\n<style scoped>\n    .dataframe tbody tr th:only-of-type {\n        vertical-align: middle;\n    }\n\n    .dataframe tbody tr th {\n        vertical-align: top;\n    }\n\n    .dataframe thead th {\n        text-align: right;\n    }\n</style>\n<table border=\"1\" class=\"dataframe\">\n  <thead>\n    <tr style=\"text-align: right;\">\n      <th></th>\n      <th>Appliances</th>\n      <th>lights</th>\n      <th>T1</th>\n      <th>RH_1</th>\n      <th>T2</th>\n      <th>RH_2</th>\n      <th>T3</th>\n      <th>RH_3</th>\n      <th>T4</th>\n      <th>RH_4</th>\n      <th>...</th>\n      <th>T9</th>\n      <th>RH_9</th>\n      <th>T_out</th>\n      <th>Press_mm_hg</th>\n      <th>RH_out</th>\n      <th>Windspeed</th>\n      <th>Visibility</th>\n      <th>Tdewpoint</th>\n      <th>rv1</th>\n      <th>rv2</th>\n    </tr>\n  </thead>\n  <tbody>\n    <tr>\n      <th>0</th>\n      <td>60</td>\n      <td>30</td>\n      <td>19.890000</td>\n      <td>47.596667</td>\n      <td>19.200000</td>\n      <td>44.790000</td>\n      <td>19.790000</td>\n      <td>44.730000</td>\n      <td>19.000000</td>\n      <td>45.566667</td>\n      <td>...</td>\n      <td>17.033333</td>\n      <td>45.5300</td>\n      <td>6.600000</td>\n      <td>733.5</td>\n      <td>92.000000</td>\n      <td>7.000000</td>\n      <td>63.000000</td>\n      <td>5.300000</td>\n      <td>13.275433</td>\n      <td>13.275433</td>\n    </tr>\n    <tr>\n      <th>1</th>\n      <td>60</td>\n      <td>30</td>\n      <td>19.890000</td>\n      <td>46.693333</td>\n      <td>19.200000</td>\n      <td>44.722500</td>\n      <td>19.790000</td>\n      <td>44.790000</td>\n      <td>19.000000</td>\n      <td>45.992500</td>\n      <td>...</td>\n      <td>17.066667</td>\n      <td>45.5600</td>\n      <td>6.483333</td>\n      <td>733.6</td>\n      <td>92.000000</td>\n      <td>6.666667</td>\n      <td>59.166667</td>\n      <td>5.200000</td>\n      <td>18.606195</td>\n      <td>18.606195</td>\n    </tr>\n    <tr>\n      <th>2</th>\n      <td>50</td>\n      <td>30</td>\n      <td>19.890000</td>\n      <td>46.300000</td>\n      <td>19.200000</td>\n      <td>44.626667</td>\n      <td>19.790000</td>\n      <td>44.933333</td>\n      <td>18.926667</td>\n      <td>45.890000</td>\n      <td>...</td>\n      <td>17.000000</td>\n      <td>45.5000</td>\n      <td>6.366667</td>\n      <td>733.7</td>\n      <td>92.000000</td>\n      <td>6.333333</td>\n      <td>55.333333</td>\n      <td>5.100000</td>\n      <td>28.642668</td>\n      <td>28.642668</td>\n    </tr>\n    <tr>\n      <th>3</th>\n      <td>50</td>\n      <td>40</td>\n      <td>19.890000</td>\n      <td>46.066667</td>\n      <td>19.200000</td>\n      <td>44.590000</td>\n      <td>19.790000</td>\n      <td>45.000000</td>\n      <td>18.890000</td>\n      <td>45.723333</td>\n      <td>...</td>\n      <td>17.000000</td>\n      <td>45.4000</td>\n      <td>6.250000</td>\n      <td>733.8</td>\n      <td>92.000000</td>\n      <td>6.000000</td>\n      <td>51.500000</td>\n      <td>5.000000</td>\n      <td>45.410389</td>\n      <td>45.410389</td>\n    </tr>\n    <tr>\n      <th>4</th>\n      <td>60</td>\n      <td>40</td>\n      <td>19.890000</td>\n      <td>46.333333</td>\n      <td>19.200000</td>\n      <td>44.530000</td>\n      <td>19.790000</td>\n      <td>45.000000</td>\n      <td>18.890000</td>\n      <td>45.530000</td>\n      <td>...</td>\n      <td>17.000000</td>\n      <td>45.4000</td>\n      <td>6.133333</td>\n      <td>733.9</td>\n      <td>92.000000</td>\n      <td>5.666667</td>\n      <td>47.666667</td>\n      <td>4.900000</td>\n      <td>10.084097</td>\n      <td>10.084097</td>\n    </tr>\n    <tr>\n      <th>...</th>\n      <td>...</td>\n      <td>...</td>\n      <td>...</td>\n      <td>...</td>\n      <td>...</td>\n      <td>...</td>\n      <td>...</td>\n      <td>...</td>\n      <td>...</td>\n      <td>...</td>\n      <td>...</td>\n      <td>...</td>\n      <td>...</td>\n      <td>...</td>\n      <td>...</td>\n      <td>...</td>\n      <td>...</td>\n      <td>...</td>\n      <td>...</td>\n      <td>...</td>\n      <td>...</td>\n    </tr>\n    <tr>\n      <th>19730</th>\n      <td>100</td>\n      <td>0</td>\n      <td>25.566667</td>\n      <td>46.560000</td>\n      <td>25.890000</td>\n      <td>42.025714</td>\n      <td>27.200000</td>\n      <td>41.163333</td>\n      <td>24.700000</td>\n      <td>45.590000</td>\n      <td>...</td>\n      <td>23.200000</td>\n      <td>46.7900</td>\n      <td>22.733333</td>\n      <td>755.2</td>\n      <td>55.666667</td>\n      <td>3.333333</td>\n      <td>23.666667</td>\n      <td>13.333333</td>\n      <td>43.096812</td>\n      <td>43.096812</td>\n    </tr>\n    <tr>\n      <th>19731</th>\n      <td>90</td>\n      <td>0</td>\n      <td>25.500000</td>\n      <td>46.500000</td>\n      <td>25.754000</td>\n      <td>42.080000</td>\n      <td>27.133333</td>\n      <td>41.223333</td>\n      <td>24.700000</td>\n      <td>45.590000</td>\n      <td>...</td>\n      <td>23.200000</td>\n      <td>46.7900</td>\n      <td>22.600000</td>\n      <td>755.2</td>\n      <td>56.000000</td>\n      <td>3.500000</td>\n      <td>24.500000</td>\n      <td>13.300000</td>\n      <td>49.282940</td>\n      <td>49.282940</td>\n    </tr>\n    <tr>\n      <th>19732</th>\n      <td>270</td>\n      <td>10</td>\n      <td>25.500000</td>\n      <td>46.596667</td>\n      <td>25.628571</td>\n      <td>42.768571</td>\n      <td>27.050000</td>\n      <td>41.690000</td>\n      <td>24.700000</td>\n      <td>45.730000</td>\n      <td>...</td>\n      <td>23.200000</td>\n      <td>46.7900</td>\n      <td>22.466667</td>\n      <td>755.2</td>\n      <td>56.333333</td>\n      <td>3.666667</td>\n      <td>25.333333</td>\n      <td>13.266667</td>\n      <td>29.199117</td>\n      <td>29.199117</td>\n    </tr>\n    <tr>\n      <th>19733</th>\n      <td>420</td>\n      <td>10</td>\n      <td>25.500000</td>\n      <td>46.990000</td>\n      <td>25.414000</td>\n      <td>43.036000</td>\n      <td>26.890000</td>\n      <td>41.290000</td>\n      <td>24.700000</td>\n      <td>45.790000</td>\n      <td>...</td>\n      <td>23.200000</td>\n      <td>46.8175</td>\n      <td>22.333333</td>\n      <td>755.2</td>\n      <td>56.666667</td>\n      <td>3.833333</td>\n      <td>26.166667</td>\n      <td>13.233333</td>\n      <td>6.322784</td>\n      <td>6.322784</td>\n    </tr>\n    <tr>\n      <th>19734</th>\n      <td>430</td>\n      <td>10</td>\n      <td>25.500000</td>\n      <td>46.600000</td>\n      <td>25.264286</td>\n      <td>42.971429</td>\n      <td>26.823333</td>\n      <td>41.156667</td>\n      <td>24.700000</td>\n      <td>45.963333</td>\n      <td>...</td>\n      <td>23.200000</td>\n      <td>46.8450</td>\n      <td>22.200000</td>\n      <td>755.2</td>\n      <td>57.000000</td>\n      <td>4.000000</td>\n      <td>27.000000</td>\n      <td>13.200000</td>\n      <td>34.118851</td>\n      <td>34.118851</td>\n    </tr>\n  </tbody>\n</table>\n<p>19735 rows × 28 columns</p>\n</div>"
     },
     "metadata": {},
     "execution_count": 25
    }
   ],
   "source": [
    "energy_data"
   ]
  },
  {
   "cell_type": "code",
   "execution_count": null,
   "metadata": {},
   "outputs": [],
   "source": []
  }
 ]
}