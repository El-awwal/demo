{
 "cells": [
  {
   "cell_type": "code",
   "execution_count": null,
   "id": "16a3d74b",
   "metadata": {},
   "outputs": [],
   "source": [
    "import numpy as np\n",
    "import pandas as pd\n",
    "import matplotlib.pyplot as plt\n",
    "import seaborn as sns"
   ]
  },
  {
   "cell_type": "code",
   "execution_count": null,
   "id": "0c4402b4",
   "metadata": {},
   "outputs": [],
   "source": [
    "df = pd.read_csv('divorce_data.csv', delimiter = ';')"
   ]
  },
  {
   "cell_type": "code",
   "execution_count": null,
   "id": "4a19832c",
   "metadata": {},
   "outputs": [],
   "source": [
    "df.head()"
   ]
  },
  {
   "cell_type": "code",
   "execution_count": null,
   "id": "f1d1b2e7",
   "metadata": {},
   "outputs": [],
   "source": [
    "df[['Q6', 'Q19', 'Q33', 'Q35', 'Divorce']]"
   ]
  },
  {
   "cell_type": "code",
   "execution_count": null,
   "id": "faccadcc",
   "metadata": {},
   "outputs": [],
   "source": [
    "df.isnull().sum()"
   ]
  },
  {
   "cell_type": "code",
   "execution_count": null,
   "id": "b0e01613",
   "metadata": {},
   "outputs": [],
   "source": [
    "df.describe()"
   ]
  },
  {
   "cell_type": "code",
   "execution_count": null,
   "id": "e1df7cb0",
   "metadata": {},
   "outputs": [],
   "source": [
    "df.nunique()"
   ]
  },
  {
   "cell_type": "code",
   "execution_count": null,
   "id": "c396e906",
   "metadata": {},
   "outputs": [],
   "source": [
    "#This is to know the possible values of the column 'Divorce' which are '0' and '1'\n",
    "df['Divorce'].unique()"
   ]
  },
  {
   "cell_type": "markdown",
   "id": "7b9dafe3",
   "metadata": {},
   "source": [
    "- #### I did the head count of the possible values of *Divorce* and this shows that, the number of those who are not divorce is more than those who are divorce.\n",
    "\n",
    "- *Below it is the distribution graph*"
   ]
  },
  {
   "cell_type": "code",
   "execution_count": null,
   "id": "fbdebd91",
   "metadata": {},
   "outputs": [],
   "source": [
    "df['Divorce'].value_counts()"
   ]
  },
  {
   "cell_type": "code",
   "execution_count": null,
   "id": "7455ebb0",
   "metadata": {},
   "outputs": [],
   "source": [
    "sns.displot(df['Divorce'])"
   ]
  },
  {
   "cell_type": "markdown",
   "id": "0718d4b5",
   "metadata": {},
   "source": [
    "### This is the relationship between Q6(We don't have time at home as partners) and Divorce \n",
    "- The number of people who get divorced due to not having time as partners is less than the number of people who don't get divorced.\n",
    "- Between the range of 1.5 to 2.5, divorce is likely to occur\n",
    "- Between the range of 3.0 to 4.0, number of divorce is slightly more."
   ]
  },
  {
   "cell_type": "code",
   "execution_count": null,
   "id": "30e41806",
   "metadata": {
    "scrolled": false
   },
   "outputs": [],
   "source": [
    "sns.displot(x = df['Divorce'], y = df['Q6'], bins = 3)"
   ]
  },
  {
   "cell_type": "code",
   "execution_count": null,
   "id": "b6a6deee",
   "metadata": {},
   "outputs": [],
   "source": []
  }
 ],
 "metadata": {
  "interpreter": {
   "hash": "cb11e4e3c22651dc48d2482418aa7e406b4c4d71fd9bc2d138a93427e3ccd624"
  },
  "kernelspec": {
   "display_name": "Python 3.9.7 64-bit ('Mohammed Arowolo': virtualenv)",
   "name": "python3"
  },
  "language_info": {
   "codemirror_mode": {
    "name": "ipython",
    "version": 3
   },
   "file_extension": ".py",
   "mimetype": "text/x-python",
   "name": "python",
   "nbconvert_exporter": "python",
   "pygments_lexer": "ipython3",
   "version": "3.9.7"
  }
 },
 "nbformat": 4,
 "nbformat_minor": 5
}
