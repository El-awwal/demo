{
  "nbformat": 4,
  "nbformat_minor": 0,
  "metadata": {
    "colab": {
      "name": "Agba_promise.ipynb",
      "provenance": [],
      "authorship_tag": "ABX9TyPGj/KQvAsScrYtkTooSipV",
      "include_colab_link": true
    },
    "kernelspec": {
      "name": "python3",
      "display_name": "Python 3"
    },
    "language_info": {
      "name": "python"
    }
  },
  "cells": [
    {
      "cell_type": "markdown",
      "metadata": {
        "id": "view-in-github",
        "colab_type": "text"
      },
      "source": [
        "<a href=\"https://colab.research.google.com/github/El-awwal/demo/blob/main/Agba_promise.ipynb\" target=\"_parent\"><img src=\"https://colab.research.google.com/assets/colab-badge.svg\" alt=\"Open In Colab\"/></a>"
      ]
    },
    {
      "cell_type": "code",
      "execution_count": 1,
      "metadata": {
        "id": "V1dJYjXI1Z-p"
      },
      "outputs": [],
      "source": [
        "import numpy as np\n",
        "import pandas as pd\n",
        "\n",
        "\n",
        "data = pd.read_csv('StudentsPerformance2.csv')\n"
      ]
    },
    {
      "cell_type": "code",
      "source": [
        "data.head()"
      ],
      "metadata": {
        "colab": {
          "base_uri": "https://localhost:8080/",
          "height": 409
        },
        "id": "IyKysFBP2dip",
        "outputId": "de24f36f-17c0-4777-c3ee-dcd0995831f9"
      },
      "execution_count": 2,
      "outputs": [
        {
          "output_type": "execute_result",
          "data": {
            "text/plain": [
              "   Unnamed: 0  gender race/ethnicity parental level of education  \\\n",
              "0           0  female        group B           bachelor's degree   \n",
              "1           1  female        group C                some college   \n",
              "2           2  female        group B             master's degree   \n",
              "3           3    male        group A          associate's degree   \n",
              "4           4    male        group C                some college   \n",
              "\n",
              "          lunch exam preparation course  CSC101  CSC102  CSC103  \\\n",
              "0      standard                    none      72      72      74   \n",
              "1      standard               completed      69      90      88   \n",
              "2      standard                    none      90      95      93   \n",
              "3  free/reduced                    none      47      57      44   \n",
              "4      standard                    none      76      78      75   \n",
              "\n",
              "   student score         grade class  \n",
              "0          72.67  Second Class Upper  \n",
              "1          82.33         First Class  \n",
              "2          92.67         First Class  \n",
              "3          49.33                Pass  \n",
              "4          76.33         First Class  "
            ],
            "text/html": [
              "\n",
              "  <div id=\"df-60daeac9-3e27-45f5-9100-08706065b85d\">\n",
              "    <div class=\"colab-df-container\">\n",
              "      <div>\n",
              "<style scoped>\n",
              "    .dataframe tbody tr th:only-of-type {\n",
              "        vertical-align: middle;\n",
              "    }\n",
              "\n",
              "    .dataframe tbody tr th {\n",
              "        vertical-align: top;\n",
              "    }\n",
              "\n",
              "    .dataframe thead th {\n",
              "        text-align: right;\n",
              "    }\n",
              "</style>\n",
              "<table border=\"1\" class=\"dataframe\">\n",
              "  <thead>\n",
              "    <tr style=\"text-align: right;\">\n",
              "      <th></th>\n",
              "      <th>Unnamed: 0</th>\n",
              "      <th>gender</th>\n",
              "      <th>race/ethnicity</th>\n",
              "      <th>parental level of education</th>\n",
              "      <th>lunch</th>\n",
              "      <th>exam preparation course</th>\n",
              "      <th>CSC101</th>\n",
              "      <th>CSC102</th>\n",
              "      <th>CSC103</th>\n",
              "      <th>student score</th>\n",
              "      <th>grade class</th>\n",
              "    </tr>\n",
              "  </thead>\n",
              "  <tbody>\n",
              "    <tr>\n",
              "      <th>0</th>\n",
              "      <td>0</td>\n",
              "      <td>female</td>\n",
              "      <td>group B</td>\n",
              "      <td>bachelor's degree</td>\n",
              "      <td>standard</td>\n",
              "      <td>none</td>\n",
              "      <td>72</td>\n",
              "      <td>72</td>\n",
              "      <td>74</td>\n",
              "      <td>72.67</td>\n",
              "      <td>Second Class Upper</td>\n",
              "    </tr>\n",
              "    <tr>\n",
              "      <th>1</th>\n",
              "      <td>1</td>\n",
              "      <td>female</td>\n",
              "      <td>group C</td>\n",
              "      <td>some college</td>\n",
              "      <td>standard</td>\n",
              "      <td>completed</td>\n",
              "      <td>69</td>\n",
              "      <td>90</td>\n",
              "      <td>88</td>\n",
              "      <td>82.33</td>\n",
              "      <td>First Class</td>\n",
              "    </tr>\n",
              "    <tr>\n",
              "      <th>2</th>\n",
              "      <td>2</td>\n",
              "      <td>female</td>\n",
              "      <td>group B</td>\n",
              "      <td>master's degree</td>\n",
              "      <td>standard</td>\n",
              "      <td>none</td>\n",
              "      <td>90</td>\n",
              "      <td>95</td>\n",
              "      <td>93</td>\n",
              "      <td>92.67</td>\n",
              "      <td>First Class</td>\n",
              "    </tr>\n",
              "    <tr>\n",
              "      <th>3</th>\n",
              "      <td>3</td>\n",
              "      <td>male</td>\n",
              "      <td>group A</td>\n",
              "      <td>associate's degree</td>\n",
              "      <td>free/reduced</td>\n",
              "      <td>none</td>\n",
              "      <td>47</td>\n",
              "      <td>57</td>\n",
              "      <td>44</td>\n",
              "      <td>49.33</td>\n",
              "      <td>Pass</td>\n",
              "    </tr>\n",
              "    <tr>\n",
              "      <th>4</th>\n",
              "      <td>4</td>\n",
              "      <td>male</td>\n",
              "      <td>group C</td>\n",
              "      <td>some college</td>\n",
              "      <td>standard</td>\n",
              "      <td>none</td>\n",
              "      <td>76</td>\n",
              "      <td>78</td>\n",
              "      <td>75</td>\n",
              "      <td>76.33</td>\n",
              "      <td>First Class</td>\n",
              "    </tr>\n",
              "  </tbody>\n",
              "</table>\n",
              "</div>\n",
              "      <button class=\"colab-df-convert\" onclick=\"convertToInteractive('df-60daeac9-3e27-45f5-9100-08706065b85d')\"\n",
              "              title=\"Convert this dataframe to an interactive table.\"\n",
              "              style=\"display:none;\">\n",
              "        \n",
              "  <svg xmlns=\"http://www.w3.org/2000/svg\" height=\"24px\"viewBox=\"0 0 24 24\"\n",
              "       width=\"24px\">\n",
              "    <path d=\"M0 0h24v24H0V0z\" fill=\"none\"/>\n",
              "    <path d=\"M18.56 5.44l.94 2.06.94-2.06 2.06-.94-2.06-.94-.94-2.06-.94 2.06-2.06.94zm-11 1L8.5 8.5l.94-2.06 2.06-.94-2.06-.94L8.5 2.5l-.94 2.06-2.06.94zm10 10l.94 2.06.94-2.06 2.06-.94-2.06-.94-.94-2.06-.94 2.06-2.06.94z\"/><path d=\"M17.41 7.96l-1.37-1.37c-.4-.4-.92-.59-1.43-.59-.52 0-1.04.2-1.43.59L10.3 9.45l-7.72 7.72c-.78.78-.78 2.05 0 2.83L4 21.41c.39.39.9.59 1.41.59.51 0 1.02-.2 1.41-.59l7.78-7.78 2.81-2.81c.8-.78.8-2.07 0-2.86zM5.41 20L4 18.59l7.72-7.72 1.47 1.35L5.41 20z\"/>\n",
              "  </svg>\n",
              "      </button>\n",
              "      \n",
              "  <style>\n",
              "    .colab-df-container {\n",
              "      display:flex;\n",
              "      flex-wrap:wrap;\n",
              "      gap: 12px;\n",
              "    }\n",
              "\n",
              "    .colab-df-convert {\n",
              "      background-color: #E8F0FE;\n",
              "      border: none;\n",
              "      border-radius: 50%;\n",
              "      cursor: pointer;\n",
              "      display: none;\n",
              "      fill: #1967D2;\n",
              "      height: 32px;\n",
              "      padding: 0 0 0 0;\n",
              "      width: 32px;\n",
              "    }\n",
              "\n",
              "    .colab-df-convert:hover {\n",
              "      background-color: #E2EBFA;\n",
              "      box-shadow: 0px 1px 2px rgba(60, 64, 67, 0.3), 0px 1px 3px 1px rgba(60, 64, 67, 0.15);\n",
              "      fill: #174EA6;\n",
              "    }\n",
              "\n",
              "    [theme=dark] .colab-df-convert {\n",
              "      background-color: #3B4455;\n",
              "      fill: #D2E3FC;\n",
              "    }\n",
              "\n",
              "    [theme=dark] .colab-df-convert:hover {\n",
              "      background-color: #434B5C;\n",
              "      box-shadow: 0px 1px 3px 1px rgba(0, 0, 0, 0.15);\n",
              "      filter: drop-shadow(0px 1px 2px rgba(0, 0, 0, 0.3));\n",
              "      fill: #FFFFFF;\n",
              "    }\n",
              "  </style>\n",
              "\n",
              "      <script>\n",
              "        const buttonEl =\n",
              "          document.querySelector('#df-60daeac9-3e27-45f5-9100-08706065b85d button.colab-df-convert');\n",
              "        buttonEl.style.display =\n",
              "          google.colab.kernel.accessAllowed ? 'block' : 'none';\n",
              "\n",
              "        async function convertToInteractive(key) {\n",
              "          const element = document.querySelector('#df-60daeac9-3e27-45f5-9100-08706065b85d');\n",
              "          const dataTable =\n",
              "            await google.colab.kernel.invokeFunction('convertToInteractive',\n",
              "                                                     [key], {});\n",
              "          if (!dataTable) return;\n",
              "\n",
              "          const docLinkHtml = 'Like what you see? Visit the ' +\n",
              "            '<a target=\"_blank\" href=https://colab.research.google.com/notebooks/data_table.ipynb>data table notebook</a>'\n",
              "            + ' to learn more about interactive tables.';\n",
              "          element.innerHTML = '';\n",
              "          dataTable['output_type'] = 'display_data';\n",
              "          await google.colab.output.renderOutput(dataTable, element);\n",
              "          const docLink = document.createElement('div');\n",
              "          docLink.innerHTML = docLinkHtml;\n",
              "          element.appendChild(docLink);\n",
              "        }\n",
              "      </script>\n",
              "    </div>\n",
              "  </div>\n",
              "  "
            ]
          },
          "metadata": {},
          "execution_count": 2
        }
      ]
    },
    {
      "cell_type": "code",
      "source": [
        "data['grade class'].value_counts()"
      ],
      "metadata": {
        "colab": {
          "base_uri": "https://localhost:8080/"
        },
        "id": "u9drj2CE2fop",
        "outputId": "43742866-4243-4eac-a44e-3951e149676c"
      },
      "execution_count": 4,
      "outputs": [
        {
          "output_type": "execute_result",
          "data": {
            "text/plain": [
              "Second Class Upper    369\n",
              "First Class           350\n",
              "Second Class Lower    167\n",
              "Pass                   97\n",
              "Fail                   17\n",
              "Name: grade class, dtype: int64"
            ]
          },
          "metadata": {},
          "execution_count": 4
        }
      ]
    },
    {
      "cell_type": "code",
      "source": [
        "data['grade']=data['grade class']"
      ],
      "metadata": {
        "id": "vrIKwxJpZpn_"
      },
      "execution_count": 7,
      "outputs": []
    },
    {
      "cell_type": "code",
      "source": [
        "data['grade']"
      ],
      "metadata": {
        "colab": {
          "base_uri": "https://localhost:8080/"
        },
        "id": "1eVXJ64jZ_JJ",
        "outputId": "8ce0cf6f-9719-4917-804f-c9ddfef31253"
      },
      "execution_count": 8,
      "outputs": [
        {
          "output_type": "execute_result",
          "data": {
            "text/plain": [
              "0      Second Class Upper\n",
              "1             First Class\n",
              "2             First Class\n",
              "3                    Pass\n",
              "4             First Class\n",
              "              ...        \n",
              "995           First Class\n",
              "996    Second Class Lower\n",
              "997    Second Class Upper\n",
              "998           First Class\n",
              "999           First Class\n",
              "Name: grade, Length: 1000, dtype: object"
            ]
          },
          "metadata": {},
          "execution_count": 8
        }
      ]
    },
    {
      "cell_type": "code",
      "source": [
        "# Assigning grades to the grades according to the following criteria :\n",
        "# Fail : grade E\n",
        "# Pass : grade D\n",
        "# Second Class Lower : grade C\n",
        "# Second Class Upper : grade B\n",
        "# First Class : grade A\n",
        "\n",
        "\n",
        "def getgrade(grade):\n",
        "  if (grade) == 'Fail':\n",
        "    return 'E'\n",
        "  if(grade) == 'Pass':\n",
        "    return 'D'\n",
        "  if(grade) == 'First Class':\n",
        "    return 'A'\n",
        "  if(grade) == 'Second Class Upper':\n",
        "    return 'B'\n",
        "  if(grade) == 'Second Class Lower':\n",
        "    return 'C'\n",
        "  else :\n",
        "    return 'E'\n",
        "\n",
        "data['new_grades'] = data.apply(lambda x: getgrade(x['grade']), axis = 1 )\n"
      ],
      "metadata": {
        "id": "FPVoXq-QY_p2"
      },
      "execution_count": 9,
      "outputs": []
    },
    {
      "cell_type": "code",
      "source": [
        "#data = data.drop(['grade class', 'student score', 'grade' ],  axis=1)\n",
        "data"
      ],
      "metadata": {
        "colab": {
          "base_uri": "https://localhost:8080/",
          "height": 502
        },
        "id": "Pg7vEBvKc0cn",
        "outputId": "af222eba-90dd-4922-b2e6-d836080596ee"
      },
      "execution_count": 21,
      "outputs": [
        {
          "output_type": "execute_result",
          "data": {
            "text/plain": [
              "     Unnamed: 0  gender  race/ethnicity  parental level of education  lunch  \\\n",
              "0             0       0               2                            1      1   \n",
              "1             1       0               3                            4      1   \n",
              "2             2       0               2                            3      1   \n",
              "3             3       1               1                            0      0   \n",
              "4             4       1               3                            4      1   \n",
              "..          ...     ...             ...                          ...    ...   \n",
              "995         995       0               5                            3      1   \n",
              "996         996       1               3                            2      0   \n",
              "997         997       0               3                            2      0   \n",
              "998         998       0               4                            4      1   \n",
              "999         999       0               4                            4      0   \n",
              "\n",
              "     exam preparation course  CSC101  CSC102  CSC103  new_grades  \n",
              "0                          1      52      44      50           2  \n",
              "1                          0      49      62      64           1  \n",
              "2                          1      70      67      69           1  \n",
              "3                          1      27      29      20           4  \n",
              "4                          1      56      50      51           1  \n",
              "..                       ...     ...     ...     ...         ...  \n",
              "995                        0      68      70      71           1  \n",
              "996                        1      42      27      31           3  \n",
              "997                        0      39      43      41           2  \n",
              "998                        0      48      50      53           1  \n",
              "999                        1      57      58      62           1  \n",
              "\n",
              "[1000 rows x 10 columns]"
            ],
            "text/html": [
              "\n",
              "  <div id=\"df-216e3a8c-93de-4e5e-a11c-4c17ad95fede\">\n",
              "    <div class=\"colab-df-container\">\n",
              "      <div>\n",
              "<style scoped>\n",
              "    .dataframe tbody tr th:only-of-type {\n",
              "        vertical-align: middle;\n",
              "    }\n",
              "\n",
              "    .dataframe tbody tr th {\n",
              "        vertical-align: top;\n",
              "    }\n",
              "\n",
              "    .dataframe thead th {\n",
              "        text-align: right;\n",
              "    }\n",
              "</style>\n",
              "<table border=\"1\" class=\"dataframe\">\n",
              "  <thead>\n",
              "    <tr style=\"text-align: right;\">\n",
              "      <th></th>\n",
              "      <th>Unnamed: 0</th>\n",
              "      <th>gender</th>\n",
              "      <th>race/ethnicity</th>\n",
              "      <th>parental level of education</th>\n",
              "      <th>lunch</th>\n",
              "      <th>exam preparation course</th>\n",
              "      <th>CSC101</th>\n",
              "      <th>CSC102</th>\n",
              "      <th>CSC103</th>\n",
              "      <th>new_grades</th>\n",
              "    </tr>\n",
              "  </thead>\n",
              "  <tbody>\n",
              "    <tr>\n",
              "      <th>0</th>\n",
              "      <td>0</td>\n",
              "      <td>0</td>\n",
              "      <td>2</td>\n",
              "      <td>1</td>\n",
              "      <td>1</td>\n",
              "      <td>1</td>\n",
              "      <td>52</td>\n",
              "      <td>44</td>\n",
              "      <td>50</td>\n",
              "      <td>2</td>\n",
              "    </tr>\n",
              "    <tr>\n",
              "      <th>1</th>\n",
              "      <td>1</td>\n",
              "      <td>0</td>\n",
              "      <td>3</td>\n",
              "      <td>4</td>\n",
              "      <td>1</td>\n",
              "      <td>0</td>\n",
              "      <td>49</td>\n",
              "      <td>62</td>\n",
              "      <td>64</td>\n",
              "      <td>1</td>\n",
              "    </tr>\n",
              "    <tr>\n",
              "      <th>2</th>\n",
              "      <td>2</td>\n",
              "      <td>0</td>\n",
              "      <td>2</td>\n",
              "      <td>3</td>\n",
              "      <td>1</td>\n",
              "      <td>1</td>\n",
              "      <td>70</td>\n",
              "      <td>67</td>\n",
              "      <td>69</td>\n",
              "      <td>1</td>\n",
              "    </tr>\n",
              "    <tr>\n",
              "      <th>3</th>\n",
              "      <td>3</td>\n",
              "      <td>1</td>\n",
              "      <td>1</td>\n",
              "      <td>0</td>\n",
              "      <td>0</td>\n",
              "      <td>1</td>\n",
              "      <td>27</td>\n",
              "      <td>29</td>\n",
              "      <td>20</td>\n",
              "      <td>4</td>\n",
              "    </tr>\n",
              "    <tr>\n",
              "      <th>4</th>\n",
              "      <td>4</td>\n",
              "      <td>1</td>\n",
              "      <td>3</td>\n",
              "      <td>4</td>\n",
              "      <td>1</td>\n",
              "      <td>1</td>\n",
              "      <td>56</td>\n",
              "      <td>50</td>\n",
              "      <td>51</td>\n",
              "      <td>1</td>\n",
              "    </tr>\n",
              "    <tr>\n",
              "      <th>...</th>\n",
              "      <td>...</td>\n",
              "      <td>...</td>\n",
              "      <td>...</td>\n",
              "      <td>...</td>\n",
              "      <td>...</td>\n",
              "      <td>...</td>\n",
              "      <td>...</td>\n",
              "      <td>...</td>\n",
              "      <td>...</td>\n",
              "      <td>...</td>\n",
              "    </tr>\n",
              "    <tr>\n",
              "      <th>995</th>\n",
              "      <td>995</td>\n",
              "      <td>0</td>\n",
              "      <td>5</td>\n",
              "      <td>3</td>\n",
              "      <td>1</td>\n",
              "      <td>0</td>\n",
              "      <td>68</td>\n",
              "      <td>70</td>\n",
              "      <td>71</td>\n",
              "      <td>1</td>\n",
              "    </tr>\n",
              "    <tr>\n",
              "      <th>996</th>\n",
              "      <td>996</td>\n",
              "      <td>1</td>\n",
              "      <td>3</td>\n",
              "      <td>2</td>\n",
              "      <td>0</td>\n",
              "      <td>1</td>\n",
              "      <td>42</td>\n",
              "      <td>27</td>\n",
              "      <td>31</td>\n",
              "      <td>3</td>\n",
              "    </tr>\n",
              "    <tr>\n",
              "      <th>997</th>\n",
              "      <td>997</td>\n",
              "      <td>0</td>\n",
              "      <td>3</td>\n",
              "      <td>2</td>\n",
              "      <td>0</td>\n",
              "      <td>0</td>\n",
              "      <td>39</td>\n",
              "      <td>43</td>\n",
              "      <td>41</td>\n",
              "      <td>2</td>\n",
              "    </tr>\n",
              "    <tr>\n",
              "      <th>998</th>\n",
              "      <td>998</td>\n",
              "      <td>0</td>\n",
              "      <td>4</td>\n",
              "      <td>4</td>\n",
              "      <td>1</td>\n",
              "      <td>0</td>\n",
              "      <td>48</td>\n",
              "      <td>50</td>\n",
              "      <td>53</td>\n",
              "      <td>1</td>\n",
              "    </tr>\n",
              "    <tr>\n",
              "      <th>999</th>\n",
              "      <td>999</td>\n",
              "      <td>0</td>\n",
              "      <td>4</td>\n",
              "      <td>4</td>\n",
              "      <td>0</td>\n",
              "      <td>1</td>\n",
              "      <td>57</td>\n",
              "      <td>58</td>\n",
              "      <td>62</td>\n",
              "      <td>1</td>\n",
              "    </tr>\n",
              "  </tbody>\n",
              "</table>\n",
              "<p>1000 rows × 10 columns</p>\n",
              "</div>\n",
              "      <button class=\"colab-df-convert\" onclick=\"convertToInteractive('df-216e3a8c-93de-4e5e-a11c-4c17ad95fede')\"\n",
              "              title=\"Convert this dataframe to an interactive table.\"\n",
              "              style=\"display:none;\">\n",
              "        \n",
              "  <svg xmlns=\"http://www.w3.org/2000/svg\" height=\"24px\"viewBox=\"0 0 24 24\"\n",
              "       width=\"24px\">\n",
              "    <path d=\"M0 0h24v24H0V0z\" fill=\"none\"/>\n",
              "    <path d=\"M18.56 5.44l.94 2.06.94-2.06 2.06-.94-2.06-.94-.94-2.06-.94 2.06-2.06.94zm-11 1L8.5 8.5l.94-2.06 2.06-.94-2.06-.94L8.5 2.5l-.94 2.06-2.06.94zm10 10l.94 2.06.94-2.06 2.06-.94-2.06-.94-.94-2.06-.94 2.06-2.06.94z\"/><path d=\"M17.41 7.96l-1.37-1.37c-.4-.4-.92-.59-1.43-.59-.52 0-1.04.2-1.43.59L10.3 9.45l-7.72 7.72c-.78.78-.78 2.05 0 2.83L4 21.41c.39.39.9.59 1.41.59.51 0 1.02-.2 1.41-.59l7.78-7.78 2.81-2.81c.8-.78.8-2.07 0-2.86zM5.41 20L4 18.59l7.72-7.72 1.47 1.35L5.41 20z\"/>\n",
              "  </svg>\n",
              "      </button>\n",
              "      \n",
              "  <style>\n",
              "    .colab-df-container {\n",
              "      display:flex;\n",
              "      flex-wrap:wrap;\n",
              "      gap: 12px;\n",
              "    }\n",
              "\n",
              "    .colab-df-convert {\n",
              "      background-color: #E8F0FE;\n",
              "      border: none;\n",
              "      border-radius: 50%;\n",
              "      cursor: pointer;\n",
              "      display: none;\n",
              "      fill: #1967D2;\n",
              "      height: 32px;\n",
              "      padding: 0 0 0 0;\n",
              "      width: 32px;\n",
              "    }\n",
              "\n",
              "    .colab-df-convert:hover {\n",
              "      background-color: #E2EBFA;\n",
              "      box-shadow: 0px 1px 2px rgba(60, 64, 67, 0.3), 0px 1px 3px 1px rgba(60, 64, 67, 0.15);\n",
              "      fill: #174EA6;\n",
              "    }\n",
              "\n",
              "    [theme=dark] .colab-df-convert {\n",
              "      background-color: #3B4455;\n",
              "      fill: #D2E3FC;\n",
              "    }\n",
              "\n",
              "    [theme=dark] .colab-df-convert:hover {\n",
              "      background-color: #434B5C;\n",
              "      box-shadow: 0px 1px 3px 1px rgba(0, 0, 0, 0.15);\n",
              "      filter: drop-shadow(0px 1px 2px rgba(0, 0, 0, 0.3));\n",
              "      fill: #FFFFFF;\n",
              "    }\n",
              "  </style>\n",
              "\n",
              "      <script>\n",
              "        const buttonEl =\n",
              "          document.querySelector('#df-216e3a8c-93de-4e5e-a11c-4c17ad95fede button.colab-df-convert');\n",
              "        buttonEl.style.display =\n",
              "          google.colab.kernel.accessAllowed ? 'block' : 'none';\n",
              "\n",
              "        async function convertToInteractive(key) {\n",
              "          const element = document.querySelector('#df-216e3a8c-93de-4e5e-a11c-4c17ad95fede');\n",
              "          const dataTable =\n",
              "            await google.colab.kernel.invokeFunction('convertToInteractive',\n",
              "                                                     [key], {});\n",
              "          if (!dataTable) return;\n",
              "\n",
              "          const docLinkHtml = 'Like what you see? Visit the ' +\n",
              "            '<a target=\"_blank\" href=https://colab.research.google.com/notebooks/data_table.ipynb>data table notebook</a>'\n",
              "            + ' to learn more about interactive tables.';\n",
              "          element.innerHTML = '';\n",
              "          dataTable['output_type'] = 'display_data';\n",
              "          await google.colab.output.renderOutput(dataTable, element);\n",
              "          const docLink = document.createElement('div');\n",
              "          docLink.innerHTML = docLinkHtml;\n",
              "          element.appendChild(docLink);\n",
              "        }\n",
              "      </script>\n",
              "    </div>\n",
              "  </div>\n",
              "  "
            ]
          },
          "metadata": {},
          "execution_count": 21
        }
      ]
    },
    {
      "cell_type": "code",
      "source": [
        "# LABEL ENCODING\n",
        "\n",
        "from sklearn.preprocessing import LabelEncoder\n",
        "\n",
        "# creating an encoder\n",
        "le = LabelEncoder()\n",
        "\n",
        "# label encoding for test preparation course\n",
        "data['exam preparation course'] = le.fit_transform(data['exam preparation course'])\n",
        "data['lunch'] = le.fit_transform(data['lunch'])\n",
        "data['race/ethnicity'] = data['race/ethnicity'].replace('group A', 1)\n",
        "data['race/ethnicity'] = data['race/ethnicity'].replace('group B', 2)\n",
        "data['race/ethnicity'] = data['race/ethnicity'].replace('group C', 3)\n",
        "data['race/ethnicity'] = data['race/ethnicity'].replace('group D', 4)\n",
        "data['race/ethnicity'] = data['race/ethnicity'].replace('group E', 5)\n",
        "data['parental level of education'] = le.fit_transform(data['parental level of education'])\n",
        "data['gender'] = le.fit_transform(data['gender'])\n",
        "data['CSC101'] = le.fit_transform(data['CSC101'])\n",
        "data['CSC102'] = le.fit_transform(data['CSC102'])\n",
        "data['CSC103'] = le.fit_transform(data['CSC103'])\n",
        "data['new_grades'] = data['new_grades'].replace('A', 1)\n",
        "data['new_grades'] = data['new_grades'].replace('B', 2)\n",
        "data['new_grades'] = data['new_grades'].replace('C', 3)\n",
        "data['new_grades'] = data['new_grades'].replace('D', 4)\n",
        "data['new_grades'] = data['new_grades'].replace('E', 5)"
      ],
      "metadata": {
        "id": "Uax01HGsc6Em"
      },
      "execution_count": 13,
      "outputs": []
    },
    {
      "cell_type": "code",
      "source": [
        "# splitting the dependent and independent variables\n",
        "\n",
        "X = data.iloc[:,1:9]\n",
        "y = data.iloc[:,9]\n",
        "\n",
        "print(X.shape)\n",
        "print(y.shape)"
      ],
      "metadata": {
        "colab": {
          "base_uri": "https://localhost:8080/"
        },
        "id": "eT9dPM3ch5lZ",
        "outputId": "455b2cd5-fcc9-49d1-a89b-76d87389fedf"
      },
      "execution_count": 30,
      "outputs": [
        {
          "output_type": "stream",
          "name": "stdout",
          "text": [
            "(1000, 8)\n",
            "(1000,)\n"
          ]
        }
      ]
    },
    {
      "cell_type": "code",
      "source": [
        "# splitting the dataset into training and test sets\n",
        "\n",
        "from sklearn.model_selection import train_test_split\n",
        "\n",
        "X_train, X_test, y_train, y_test = train_test_split(X, y, test_size = 0.25, random_state = 45)\n",
        "\n",
        "print(X_train.shape)\n",
        "print(y_train.shape)\n",
        "print(X_test.shape)\n",
        "print(y_test.shape)"
      ],
      "metadata": {
        "colab": {
          "base_uri": "https://localhost:8080/"
        },
        "id": "_VXTjwjvjGwl",
        "outputId": "81d3a446-8ec0-42d5-bc18-792b3d000220"
      },
      "execution_count": 31,
      "outputs": [
        {
          "output_type": "stream",
          "name": "stdout",
          "text": [
            "(750, 8)\n",
            "(750,)\n",
            "(250, 8)\n",
            "(250,)\n"
          ]
        }
      ]
    },
    {
      "cell_type": "code",
      "source": [
        "# importing the MinMaxScaler\n",
        "from sklearn.preprocessing import MinMaxScaler\n",
        "\n",
        "# creating a scaler\n",
        "mm = MinMaxScaler()\n",
        "\n",
        "# feeding the independent variable into the scaler\n",
        "X_train = mm.fit_transform(X_train)\n",
        "X_test = mm.transform(X_test)"
      ],
      "metadata": {
        "id": "e4m2Rjurjwot"
      },
      "execution_count": 32,
      "outputs": []
    },
    {
      "cell_type": "code",
      "source": [
        "from sklearn.linear_model import  LogisticRegression\n",
        "\n",
        "# creating a model\n",
        "model = LogisticRegression(penalty = 'l2', solver = 'lbfgs', multi_class = 'auto', max_iter = 1000)\n",
        "\n",
        "# feeding the training data to the model\n",
        "model.fit(X_train, y_train)\n",
        "\n",
        "# predicting the test set results\n",
        "y_pred = model.predict(X_test)\n",
        "\n",
        "# calculating the classification accuracies\n",
        "print(\"Training Accuracy :\", model.score(X_train, y_train))\n",
        "print(\"Testing Accuracy :\", model.score(X_test, y_test))"
      ],
      "metadata": {
        "colab": {
          "base_uri": "https://localhost:8080/"
        },
        "id": "3B5BgzW5j58Z",
        "outputId": "809fa7dc-603d-48b0-a382-7193ae95810c"
      },
      "execution_count": 33,
      "outputs": [
        {
          "output_type": "stream",
          "name": "stdout",
          "text": [
            "Training Accuracy : 0.796\n",
            "Testing Accuracy : 0.804\n"
          ]
        }
      ]
    },
    {
      "cell_type": "code",
      "source": [
        "y_pred"
      ],
      "metadata": {
        "colab": {
          "base_uri": "https://localhost:8080/"
        },
        "id": "jlSlJ-K7ksy9",
        "outputId": "9e905633-f5ab-49fc-82ec-4d6a2c46a329"
      },
      "execution_count": 39,
      "outputs": [
        {
          "output_type": "execute_result",
          "data": {
            "text/plain": [
              "array([1, 3, 1, 2, 1, 2, 1, 1, 4, 2, 4, 2, 1, 2, 3, 4, 1, 2, 4, 3, 3, 2,\n",
              "       1, 2, 1, 2, 1, 2, 4, 2, 3, 1, 4, 1, 4, 1, 1, 1, 1, 3, 2, 2, 2, 2,\n",
              "       1, 2, 2, 2, 3, 2, 2, 3, 2, 2, 1, 1, 1, 1, 1, 1, 1, 2, 2, 2, 1, 1,\n",
              "       3, 2, 3, 2, 3, 1, 3, 2, 2, 1, 2, 2, 2, 3, 2, 2, 3, 2, 3, 2, 2, 3,\n",
              "       4, 2, 1, 2, 3, 2, 1, 2, 3, 2, 2, 1, 3, 1, 1, 2, 2, 2, 1, 2, 1, 4,\n",
              "       2, 1, 1, 1, 1, 2, 1, 4, 4, 1, 2, 2, 4, 2, 3, 2, 1, 2, 1, 2, 2, 1,\n",
              "       3, 3, 2, 1, 1, 3, 2, 1, 2, 2, 1, 2, 1, 2, 2, 4, 1, 3, 2, 4, 2, 1,\n",
              "       2, 2, 2, 2, 1, 1, 2, 3, 2, 2, 2, 1, 1, 2, 3, 1, 1, 2, 3, 1, 3, 4,\n",
              "       2, 2, 2, 1, 1, 1, 2, 2, 2, 2, 1, 2, 4, 3, 2, 4, 2, 1, 2, 1, 1, 2,\n",
              "       3, 2, 2, 4, 2, 2, 2, 1, 2, 3, 4, 1, 2, 1, 2, 2, 2, 2, 2, 2, 2, 2,\n",
              "       1, 4, 1, 1, 3, 2, 1, 3, 3, 1, 2, 2, 1, 1, 2, 1, 2, 2, 3, 4, 2, 1,\n",
              "       1, 2, 2, 3, 1, 2, 1, 3])"
            ]
          },
          "metadata": {},
          "execution_count": 39
        }
      ]
    },
    {
      "cell_type": "code",
      "source": [
        "y"
      ],
      "metadata": {
        "colab": {
          "base_uri": "https://localhost:8080/"
        },
        "id": "39C3VZhEkwjD",
        "outputId": "9852f0f3-1edf-48cf-d5c3-25dc66d8f135"
      },
      "execution_count": 38,
      "outputs": [
        {
          "output_type": "execute_result",
          "data": {
            "text/plain": [
              "0      2\n",
              "1      1\n",
              "2      1\n",
              "3      4\n",
              "4      1\n",
              "      ..\n",
              "995    1\n",
              "996    3\n",
              "997    2\n",
              "998    1\n",
              "999    1\n",
              "Name: new_grades, Length: 1000, dtype: int64"
            ]
          },
          "metadata": {},
          "execution_count": 38
        }
      ]
    },
    {
      "cell_type": "code",
      "source": [
        "#You fit look maybe you go understand explain for me because i just do copyandpaste, i understood to some extent sha"
      ],
      "metadata": {
        "id": "smdAaBbtlOrm"
      },
      "execution_count": null,
      "outputs": []
    }
  ]
}